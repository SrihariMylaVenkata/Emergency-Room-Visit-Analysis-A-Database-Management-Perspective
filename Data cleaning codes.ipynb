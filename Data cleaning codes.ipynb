{
 "cells": [
  {
   "cell_type": "code",
   "execution_count": 3,
   "id": "30e4ad79-d34b-4f0d-a49e-2684cdcf5186",
   "metadata": {},
   "outputs": [
    {
     "name": "stdout",
     "output_type": "stream",
     "text": [
      "Cleaned Patient Data:\n",
      "   pid     fname     lname         DOB     sex  LocationID\n",
      "0    1     Abdul   Kuvalis  1995-04-23    Male           1\n",
      "1    2  Adrienne    Graham  1953-06-19  Female           2\n",
      "2    3        Ai   Gerlach  1996-07-10  Female           3\n",
      "3    4      Aida     Marks  2016-03-20  Female           4\n",
      "4    5    Althea  Schmeler  1974-07-28  Female           5\n",
      "\n",
      "Location Data:\n",
      "   LocationID              city          state\n",
      "0           1  West Springfield  Massachusetts\n",
      "1           2         Haverhill  Massachusetts\n",
      "2           3         Worcester  Massachusetts\n",
      "3           4         Haverhill  Massachusetts\n",
      "4           5           Milford  Massachusetts\n"
     ]
    }
   ],
   "source": [
    "import pandas as pd\n",
    "\n",
    "# Step 1: Load patient data\n",
    "patient_data = pd.read_csv('patient_data.csv', encoding='latin1')\n",
    "\n",
    "# Step 2: Clean patient data (keep needed columns and make a full copy)\n",
    "patient_data_cleaned = patient_data[['pid', 'fname', 'lname', 'DOB', 'sex', 'city', 'state']].copy()\n",
    "\n",
    "# Step 3: Create location data (no dropping duplicates)\n",
    "location_data = patient_data_cleaned[['city', 'state']].copy()\n",
    "\n",
    "# Step 4: Add LocationID (one for each patient)\n",
    "location_data['LocationID'] = location_data.index + 1\n",
    "\n",
    "# Step 5: Reorder location columns\n",
    "location_data = location_data[['LocationID', 'city', 'state']]\n",
    "\n",
    "# Step 6: Add LocationID to patient data\n",
    "patient_data_cleaned['LocationID'] = location_data['LocationID']\n",
    "\n",
    "# Step 7: Finalize patient table (only needed columns)\n",
    "patient_final = patient_data_cleaned[['pid', 'fname', 'lname', 'DOB', 'sex', 'LocationID']]\n",
    "\n",
    "# Step 8: Save the results\n",
    "patient_final.to_csv('cleaned_patient_data.csv', index=False)  # Patient table\n",
    "location_data.to_csv('location.csv', index=False)              # Location table\n",
    "\n",
    "# (Optional) Print preview\n",
    "print(\"Cleaned Patient Data:\")\n",
    "print(patient_final.head())\n",
    "\n",
    "print(\"\\nLocation Data:\")\n",
    "print(location_data.head())\n"
   ]
  },
  {
   "cell_type": "code",
   "execution_count": 4,
   "id": "9e5ce706-21da-43f9-aa06-93a0d10208a3",
   "metadata": {},
   "outputs": [
    {
     "name": "stdout",
     "output_type": "stream",
     "text": [
      "Cleaned Form Encounter Data:\n",
      "   encounter_id  pid                 date  \\\n",
      "0             1    1  2002-05-07 05:44:10   \n",
      "1             2    1  2011-06-05 05:44:10   \n",
      "2             3    1  2013-06-16 05:44:10   \n",
      "3             4    1  2014-06-22 05:44:10   \n",
      "4             5    1  2014-12-16 06:54:14   \n",
      "\n",
      "                                       reason  \n",
      "0                       Encounter for problem  \n",
      "1                Well child visit (procedure)  \n",
      "2  General examination of patient (procedure)  \n",
      "3  General examination of patient (procedure)  \n",
      "4                       Encounter for problem  \n"
     ]
    }
   ],
   "source": [
    "import pandas as pd\n",
    "\n",
    "# Load form_encounter data\n",
    "form_encounter = pd.read_csv('form_encounter.csv', encoding='latin1')\n",
    "\n",
    "# Keep only the required columns (dropping onset_date and sensitivity)\n",
    "form_encounter_cleaned = form_encounter[['id', 'pid', 'date', 'reason']].copy()\n",
    "\n",
    "# Rename 'id' to 'encounter_id'\n",
    "form_encounter_cleaned.rename(columns={'id': 'encounter_id'}, inplace=True)\n",
    "\n",
    "# Save the cleaned form_encounter data\n",
    "form_encounter_cleaned.to_csv('cleaned_form_encounter.csv', index=False)\n",
    "\n",
    "# (Optional) Print preview\n",
    "print(\"Cleaned Form Encounter Data:\")\n",
    "print(form_encounter_cleaned.head())\n"
   ]
  },
  {
   "cell_type": "code",
   "execution_count": 5,
   "id": "21b4bf03-efbc-48f9-8c29-ed913d302c75",
   "metadata": {},
   "outputs": [
    {
     "name": "stdout",
     "output_type": "stream",
     "text": [
      "Fixed Cleaned Prescriptions:\n",
      "   prescriptionID  pid           date_added  dosage  \\\n",
      "0               1    1  2015-05-29 23:44:10       1   \n",
      "1               2    1  2016-03-28 07:39:01       1   \n",
      "2               3    2  1959-02-17 15:26:14       1   \n",
      "3               4    2  1972-09-05 17:26:14       1   \n",
      "4               5    2  2020-09-25 15:26:14       1   \n",
      "\n",
      "                                                drug  unit  route  \\\n",
      "0  Amoxicillin 250 MG / Clavulanate 125 MG Oral T...    10     16   \n",
      "1                   Acetaminophen 325 MG Oral Tablet    11     16   \n",
      "2    diphenhydrAMINE Hydrochloride 25 MG Oral Tablet    12     16   \n",
      "3                         doxycycline hyclate 100 MG    13     16   \n",
      "4                       lisinopril 10 MG Oral Tablet    14     16   \n",
      "\n",
      "   encounter_id  \n",
      "0             1  \n",
      "1             1  \n",
      "2            14  \n",
      "3            14  \n",
      "4            14  \n"
     ]
    }
   ],
   "source": [
    "import pandas as pd\n",
    "\n",
    "# Step 1: Load prescriptions and encounters\n",
    "prescriptions = pd.read_csv('prescriptions.csv', encoding='latin1')\n",
    "form_encounter = pd.read_csv('cleaned_form_encounter.csv', encoding='latin1')\n",
    "\n",
    "# Step 2: Prepare prescriptions\n",
    "prescriptions_cleaned = prescriptions[['id', 'patient_id', 'date_added', 'dosage', 'drug', 'unit', 'route']].copy()\n",
    "\n",
    "# Rename columns\n",
    "prescriptions_cleaned.rename(columns={\n",
    "    'id': 'prescriptionID',\n",
    "    'patient_id': 'pid'\n",
    "}, inplace=True)\n",
    "\n",
    "# Step 3: Build a lookup dictionary {pid: encounter_id}\n",
    "encounter_lookup = form_encounter.drop_duplicates(subset=['pid']).set_index('pid')['encounter_id'].to_dict()\n",
    "\n",
    "# Step 4: Map encounter_id directly without expanding rows\n",
    "prescriptions_cleaned['encounter_id'] = prescriptions_cleaned['pid'].map(encounter_lookup)\n",
    "\n",
    "# Step 5: Save cleaned prescriptions\n",
    "prescriptions_cleaned.to_csv('cleaned_prescriptions.csv', index=False)\n",
    "\n",
    "# Optional preview\n",
    "print(\"Fixed Cleaned Prescriptions:\")\n",
    "print(prescriptions_cleaned.head())\n"
   ]
  },
  {
   "cell_type": "code",
   "execution_count": 6,
   "id": "45aaf258-7b00-4a31-82e3-c3ab873eb95b",
   "metadata": {},
   "outputs": [
    {
     "name": "stdout",
     "output_type": "stream",
     "text": [
      "Fixed Cleaned Form Vitals:\n",
      "    vital_id  pid                 date  weight  height  temperature  pulse  \\\n",
      "4          5    5  2022-11-13 19:23:04  171.33   63.66       100.34   79.0   \n",
      "6          7    7  2022-12-07 12:40:03  127.69   63.98        99.28   96.0   \n",
      "25        26   28  2022-11-05 00:35:14  170.74   63.94        99.65   80.0   \n",
      "49        50   56  2022-07-08 20:08:49  186.62   65.79        99.19   94.0   \n",
      "55        56   62  2022-08-26 22:41:40  183.45   68.27        99.43   93.0   \n",
      "\n",
      "    respiration  encounter_id  \n",
      "4          13.0           181  \n",
      "6          13.0           252  \n",
      "25         14.0          1163  \n",
      "49         15.0          2313  \n",
      "55         14.0          2663  \n"
     ]
    }
   ],
   "source": [
    "# Step 1: Load vitals and cleaned prescriptions\n",
    "form_vitals = pd.read_csv('form_vitals.csv', encoding='latin1')\n",
    "prescriptions_final = pd.read_csv('cleaned_prescriptions.csv', encoding='latin1')\n",
    "\n",
    "# Step 2: Prepare vitals\n",
    "form_vitals_cleaned = form_vitals[['id', 'pid', 'date', 'weight', 'height', 'temperature', 'pulse', 'respiration']].copy()\n",
    "\n",
    "# Drop rows with nulls\n",
    "form_vitals_cleaned = form_vitals_cleaned.dropna(subset=['weight', 'height', 'temperature', 'pulse', 'respiration'])\n",
    "\n",
    "# Rename 'id' to 'vital_id'\n",
    "form_vitals_cleaned.rename(columns={'id': 'vital_id'}, inplace=True)\n",
    "\n",
    "# Step 3: Build a lookup dictionary {pid: encounter_id}\n",
    "encounter_lookup_vitals = prescriptions_final.drop_duplicates(subset=['pid']).set_index('pid')['encounter_id'].to_dict()\n",
    "\n",
    "# Step 4: Map encounter_id directly\n",
    "form_vitals_cleaned['encounter_id'] = form_vitals_cleaned['pid'].map(encounter_lookup_vitals)\n",
    "\n",
    "# Step 5: Save cleaned vitals\n",
    "form_vitals_cleaned.to_csv('cleaned_form_vitals.csv', index=False)\n",
    "\n",
    "# Optional preview\n",
    "print(\"Fixed Cleaned Form Vitals:\")\n",
    "print(form_vitals_cleaned.head())\n"
   ]
  },
  {
   "cell_type": "code",
   "execution_count": 7,
   "id": "ffb46935-3395-4c79-8180-7bc8de314f5d",
   "metadata": {},
   "outputs": [
    {
     "name": "stdout",
     "output_type": "stream",
     "text": [
      "Cleaned Procedure Order Data:\n",
      "   procedure_order_id  encounter_id         date_ordered order_status  \\\n",
      "0                   1             4  2013-06-16 05:44:10    completed   \n",
      "1                   2             4  2013-06-16 06:23:23    completed   \n",
      "2                   3             4  2013-06-16 06:37:55    completed   \n",
      "3                   4             4  2013-06-16 06:59:34    completed   \n",
      "4                   5             4  2013-06-16 07:12:54    completed   \n",
      "\n",
      "   activity procedure_order_type  \n",
      "0         1                order  \n",
      "1         1                order  \n",
      "2         1                order  \n",
      "3         1                order  \n",
      "4         1                order  \n"
     ]
    }
   ],
   "source": [
    "import pandas as pd\n",
    "\n",
    "# Step 1: Load procedure_order data\n",
    "procedure_order = pd.read_csv('procedure_order.csv', encoding='latin1')\n",
    "\n",
    "# Step 2: Keep only needed columns\n",
    "procedure_order_cleaned = procedure_order[['procedure_order_id', 'encounter_id', 'date_ordered', 'order_status', 'activity', 'procedure_order_type']].copy()\n",
    "\n",
    "# Step 3: Save the cleaned procedure_order\n",
    "procedure_order_cleaned.to_csv('cleaned_procedure_order.csv', index=False)\n",
    "\n",
    "# Optional: Print preview\n",
    "print(\"Cleaned Procedure Order Data:\")\n",
    "print(procedure_order_cleaned.head())\n"
   ]
  },
  {
   "cell_type": "code",
   "execution_count": 8,
   "id": "bed26b45-a492-44fb-b723-3734794a6d0d",
   "metadata": {},
   "outputs": [
    {
     "name": "stdout",
     "output_type": "stream",
     "text": [
      "Cleaned Procedure Report Data:\n",
      "   procedure_report_id  procedure_order_id          date_report report_status  \\\n",
      "0                    1                  27  2013-06-16 00:00:00         final   \n",
      "1                    2                  28  2013-06-16 00:00:00         final   \n",
      "2                    3                  29  2014-06-22 00:00:00         final   \n",
      "3                    4                  30  2014-06-22 00:00:00         final   \n",
      "4                    5                  31  2014-06-22 00:00:00         final   \n",
      "\n",
      "  review_status  \n",
      "0      reviewed  \n",
      "1      reviewed  \n",
      "2      reviewed  \n",
      "3      reviewed  \n",
      "4      reviewed  \n"
     ]
    }
   ],
   "source": [
    "import pandas as pd\n",
    "\n",
    "# Load procedure_report data (Make sure procedure_report.csv is in the same folder)\n",
    "procedure_report = pd.read_csv('procedure_report.csv', encoding='latin1')\n",
    "\n",
    "# Keep only the needed columns\n",
    "procedure_report_cleaned = procedure_report[['procedure_report_id', 'procedure_order_id', 'date_report', 'report_status', 'review_status']].copy()\n",
    "\n",
    "# Save the cleaned procedure_report data\n",
    "procedure_report_cleaned.to_csv('cleaned_procedure_report.csv', index=False)\n",
    "\n",
    "# Optional: Preview\n",
    "print(\"Cleaned Procedure Report Data:\")\n",
    "print(procedure_report_cleaned.head())\n"
   ]
  },
  {
   "cell_type": "code",
   "execution_count": null,
   "id": "032b0048-b06b-458a-b4ed-449d0988d22b",
   "metadata": {},
   "outputs": [],
   "source": []
  }
 ],
 "metadata": {
  "kernelspec": {
   "display_name": "Python 3 (ipykernel)",
   "language": "python",
   "name": "python3"
  },
  "language_info": {
   "codemirror_mode": {
    "name": "ipython",
    "version": 3
   },
   "file_extension": ".py",
   "mimetype": "text/x-python",
   "name": "python",
   "nbconvert_exporter": "python",
   "pygments_lexer": "ipython3",
   "version": "3.10.12"
  }
 },
 "nbformat": 4,
 "nbformat_minor": 5
}
